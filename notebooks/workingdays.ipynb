{
 "cells": [
  {
   "cell_type": "markdown",
   "source": [
    "# Scenario 1\n",
    "## One JSON-File to CSV\n",
    "\n",
    "![Scenario 1](../src/input/static/scenario_1.jpg)"
   ],
   "metadata": {
    "collapsed": false
   },
   "id": "5fee9bf39de3c883"
  },
  {
   "cell_type": "code",
   "outputs": [],
   "source": [
    "# Import packages\n",
    "import json\n",
    "import pandas as pd"
   ],
   "metadata": {
    "collapsed": true,
    "ExecuteTime": {
     "end_time": "2024-01-10T19:59:44.730105941Z",
     "start_time": "2024-01-10T19:59:44.574986343Z"
    }
   },
   "id": "initial_id",
   "execution_count": 2
  },
  {
   "cell_type": "code",
   "execution_count": 3,
   "outputs": [],
   "source": [
    "# Open File and load it as JSON\n",
    "with open ('../src/input/data/1_working_days.json') as file:\n",
    "    data = json.loads(file.read())"
   ],
   "metadata": {
    "collapsed": false,
    "ExecuteTime": {
     "end_time": "2024-01-10T19:59:44.785520789Z",
     "start_time": "2024-01-10T19:59:44.772286326Z"
    }
   },
   "id": "cccdb8ae2eb545ec"
  },
  {
   "cell_type": "code",
   "execution_count": 4,
   "outputs": [
    {
     "name": "stdout",
     "output_type": "stream",
     "text": [
      "{\n",
      "  \"days\": {\n",
      "    \"total\": 30,\n",
      "    \"mondays\": 5,\n",
      "    \"tuesdays\": 5,\n",
      "    \"wednesdays\": 4,\n",
      "    \"thursdays\": 4,\n",
      "    \"fridays\": 4,\n",
      "    \"saturdays\": 4,\n",
      "    \"sundays\": 4,\n",
      "    \"hours\": 719.98333333333\n",
      "  },\n",
      "  \"working_days\": {\n",
      "    \"total\": 21,\n",
      "    \"mondays\": 4,\n",
      "    \"tuesdays\": 5,\n",
      "    \"wednesdays\": 4,\n",
      "    \"thursdays\": 4,\n",
      "    \"fridays\": 4,\n",
      "    \"saturdays\": 0,\n",
      "    \"sundays\": 0,\n",
      "    \"work_hours\": 168,\n",
      "    \"wages\": 3360\n",
      "  },\n",
      "  \"weekend_days\": {\n",
      "    \"total\": 8,\n",
      "    \"mondays\": 0,\n",
      "    \"tuesdays\": 0,\n",
      "    \"wednesdays\": 0,\n",
      "    \"thursdays\": 0,\n",
      "    \"fridays\": 0,\n",
      "    \"saturdays\": 4,\n",
      "    \"sundays\": 4\n",
      "  },\n",
      "  \"public_holidays\": {\n",
      "    \"total\": 1,\n",
      "    \"mondays\": 1,\n",
      "    \"tuesdays\": 0,\n",
      "    \"wednesdays\": 0,\n",
      "    \"thursdays\": 0,\n",
      "    \"fridays\": 0,\n",
      "    \"saturdays\": 0,\n",
      "    \"sundays\": 0,\n",
      "    \"list\": [\n",
      "      {\n",
      "        \"date\": \"2013-04-01\",\n",
      "        \"description\": \"Ostermontag\"\n",
      "      }\n",
      "    ]\n",
      "  },\n",
      "  \"custom_dates\": {\n",
      "    \"total\": 0,\n",
      "    \"mondays\": 0,\n",
      "    \"tuesdays\": 0,\n",
      "    \"wednesdays\": 0,\n",
      "    \"thursdays\": 0,\n",
      "    \"fridays\": 0,\n",
      "    \"saturdays\": 0,\n",
      "    \"sundays\": 0,\n",
      "    \"list\": []\n",
      "  }\n",
      "}\n"
     ]
    }
   ],
   "source": [
    "# Check JSON-Data\n",
    "print(json.dumps(data, indent=2))"
   ],
   "metadata": {
    "collapsed": false,
    "ExecuteTime": {
     "end_time": "2024-01-10T19:59:44.786616740Z",
     "start_time": "2024-01-10T19:59:44.772447670Z"
    }
   },
   "id": "a0adb86f48cc1149"
  },
  {
   "cell_type": "code",
   "execution_count": 5,
   "outputs": [],
   "source": [
    "# Extract List of public holidays from JSON\n",
    "lst_public_holidays = data['public_holidays']['list']\n",
    "\n",
    "# Create DataFrame from List\n",
    "df_public_holidays = pd.DataFrame(lst_public_holidays)"
   ],
   "metadata": {
    "collapsed": false,
    "ExecuteTime": {
     "end_time": "2024-01-10T19:59:44.788577499Z",
     "start_time": "2024-01-10T19:59:44.772561856Z"
    }
   },
   "id": "7a6cd77f900fb52f"
  },
  {
   "cell_type": "code",
   "execution_count": 6,
   "outputs": [
    {
     "data": {
      "text/plain": "         date  description\n0  2013-04-01  Ostermontag",
      "text/html": "<div>\n<style scoped>\n    .dataframe tbody tr th:only-of-type {\n        vertical-align: middle;\n    }\n\n    .dataframe tbody tr th {\n        vertical-align: top;\n    }\n\n    .dataframe thead th {\n        text-align: right;\n    }\n</style>\n<table border=\"1\" class=\"dataframe\">\n  <thead>\n    <tr style=\"text-align: right;\">\n      <th></th>\n      <th>date</th>\n      <th>description</th>\n    </tr>\n  </thead>\n  <tbody>\n    <tr>\n      <th>0</th>\n      <td>2013-04-01</td>\n      <td>Ostermontag</td>\n    </tr>\n  </tbody>\n</table>\n</div>"
     },
     "execution_count": 6,
     "metadata": {},
     "output_type": "execute_result"
    }
   ],
   "source": [
    "# Check DataFrame\n",
    "df_public_holidays"
   ],
   "metadata": {
    "collapsed": false,
    "ExecuteTime": {
     "end_time": "2024-01-10T19:59:44.795337251Z",
     "start_time": "2024-01-10T19:59:44.772646204Z"
    }
   },
   "id": "7843ef8ab1475215"
  },
  {
   "cell_type": "code",
   "execution_count": 7,
   "outputs": [],
   "source": [
    "# Save DataFrame to CSV-File\n",
    "df_public_holidays.to_csv('../src/output/public_holidays.csv', index=False)"
   ],
   "metadata": {
    "collapsed": false,
    "ExecuteTime": {
     "end_time": "2024-01-10T19:59:44.795654707Z",
     "start_time": "2024-01-10T19:59:44.772739167Z"
    }
   },
   "id": "1c5d61f30a760056"
  },
  {
   "cell_type": "markdown",
   "source": [
    "# Scenario 2\n",
    "## Loop multiple Files in Folder\n",
    "\n",
    "![Scenario 2](../src/input/static/scenario_2.jpg)"
   ],
   "metadata": {
    "collapsed": false
   },
   "id": "ecc697c034ccde92"
  },
  {
   "cell_type": "code",
   "execution_count": 14,
   "outputs": [
    {
     "data": {
      "text/plain": "         date   description           free\n0  2013-04-01   Ostermontag            NaN\n1  2013-ß3-31  Ostersonntag  [True, False]",
      "text/html": "<div>\n<style scoped>\n    .dataframe tbody tr th:only-of-type {\n        vertical-align: middle;\n    }\n\n    .dataframe tbody tr th {\n        vertical-align: top;\n    }\n\n    .dataframe thead th {\n        text-align: right;\n    }\n</style>\n<table border=\"1\" class=\"dataframe\">\n  <thead>\n    <tr style=\"text-align: right;\">\n      <th></th>\n      <th>date</th>\n      <th>description</th>\n      <th>free</th>\n    </tr>\n  </thead>\n  <tbody>\n    <tr>\n      <th>0</th>\n      <td>2013-04-01</td>\n      <td>Ostermontag</td>\n      <td>NaN</td>\n    </tr>\n    <tr>\n      <th>1</th>\n      <td>2013-ß3-31</td>\n      <td>Ostersonntag</td>\n      <td>[True, False]</td>\n    </tr>\n  </tbody>\n</table>\n</div>"
     },
     "execution_count": 14,
     "metadata": {},
     "output_type": "execute_result"
    }
   ],
   "source": [
    "# Import packages\n",
    "import glob\n",
    "\n",
    "# Create empty DataFrame\n",
    "df_days = pd.DataFrame()\n",
    "\n",
    "# Loop through files in folder\n",
    "for file in glob.glob('../src/input/data/*.json'):\n",
    "    with open (f'{file}') as file:\n",
    "        f_data = json.loads(file.read())\n",
    "        \n",
    "        #Create DataFrame from List\n",
    "        f_lst_public_holidays = f_data['public_holidays']['list']\n",
    "        \n",
    "        # Create DataFrame from List\n",
    "        f_df_public_holidays = pd.DataFrame(f_lst_public_holidays)\n",
    "        df_days = pd.concat([df_days, f_df_public_holidays], axis=0, ignore_index=True)\n",
    "\n",
    "# Save DataFrame to CSV-File\n",
    "df_days.to_csv('../src/output/multi_files_public_holidays.csv', index=False)\n",
    "\n",
    "# Check DataFrame\n",
    "df_days"
   ],
   "metadata": {
    "collapsed": false,
    "ExecuteTime": {
     "end_time": "2024-01-10T20:03:53.064510994Z",
     "start_time": "2024-01-10T20:03:53.018546634Z"
    }
   },
   "id": "76bdd0b295fa578e"
  }
 ],
 "metadata": {
  "kernelspec": {
   "display_name": "Python 3",
   "language": "python",
   "name": "python3"
  },
  "language_info": {
   "codemirror_mode": {
    "name": "ipython",
    "version": 2
   },
   "file_extension": ".py",
   "mimetype": "text/x-python",
   "name": "python",
   "nbconvert_exporter": "python",
   "pygments_lexer": "ipython2",
   "version": "2.7.6"
  }
 },
 "nbformat": 4,
 "nbformat_minor": 5
}
