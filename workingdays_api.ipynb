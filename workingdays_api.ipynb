{
 "cells": [
  {
   "cell_type": "code",
   "execution_count": 68,
   "id": "initial_id",
   "metadata": {
    "collapsed": true,
    "ExecuteTime": {
     "end_time": "2023-12-18T19:01:43.183584981Z",
     "start_time": "2023-12-18T19:01:43.182336834Z"
    }
   },
   "outputs": [],
   "source": [
    "import pandas as pd\n",
    "import requests\n",
    "import yaml"
   ]
  },
  {
   "cell_type": "code",
   "execution_count": 69,
   "outputs": [],
   "source": [
    "with open(\"./credentials.yml\", \"r\") as credentials:\n",
    "    try:\n",
    "        credentials_data = yaml.safe_load(credentials)\n",
    "        key = credentials_data['rapidsAPI']['API-Key']\n",
    "        host = credentials_data['rapidsAPI']['API-Host']\n",
    "    except:\n",
    "        print('Error')"
   ],
   "metadata": {
    "collapsed": false,
    "ExecuteTime": {
     "end_time": "2023-12-18T19:01:43.186477707Z",
     "start_time": "2023-12-18T19:01:43.184554956Z"
    }
   },
   "id": "ee91ef6fa6915cc9"
  },
  {
   "cell_type": "code",
   "execution_count": 70,
   "outputs": [],
   "source": [
    "url = 'https://working-days.p.rapidapi.com/1.3/analyse'\n",
    "\n",
    "headers = {\n",
    "    \"X-RapidAPI-Key\": key,\n",
    "    \"X-RapidAPI-Host\": host\n",
    "}\n",
    "\n",
    "payload = {\n",
    "    'country_code': 'DE',\n",
    "    'start_date': '2013-01-01',\n",
    "    'end_date': '2013-12-31'\n",
    "}"
   ],
   "metadata": {
    "collapsed": false,
    "ExecuteTime": {
     "end_time": "2023-12-18T19:01:43.246867481Z",
     "start_time": "2023-12-18T19:01:43.238286134Z"
    }
   },
   "id": "a2337b1424ceaebe"
  },
  {
   "cell_type": "code",
   "execution_count": 71,
   "outputs": [],
   "source": [
    "response = requests.get(url, headers=headers, params=payload)\n",
    "response = response.json()"
   ],
   "metadata": {
    "collapsed": false,
    "ExecuteTime": {
     "end_time": "2023-12-18T19:01:43.515740268Z",
     "start_time": "2023-12-18T19:01:43.238398786Z"
    }
   },
   "id": "1716dc6ae314dacd"
  },
  {
   "cell_type": "code",
   "execution_count": 72,
   "outputs": [],
   "source": [
    "# Extract List of public holidays from JSON\n",
    "lst_public_holidays = response['public_holidays']['list']\n",
    "\n",
    "# Create DataFrame from List\n",
    "df_public_holidays = pd.DataFrame(lst_public_holidays)"
   ],
   "metadata": {
    "collapsed": false,
    "ExecuteTime": {
     "end_time": "2023-12-18T19:01:43.519755932Z",
     "start_time": "2023-12-18T19:01:43.516904728Z"
    }
   },
   "id": "8986d2714a9aa843"
  },
  {
   "cell_type": "code",
   "execution_count": 73,
   "outputs": [
    {
     "data": {
      "text/plain": "         date                 description\n0  2013-01-01                 Neujahrstag\n1  2013-03-29                  Karfreitag\n2  2013-04-01                 Ostermontag\n3  2013-05-01              Tag der Arbeit\n4  2013-05-09         Christi Himmelfahrt\n5  2013-05-20               Pfingstmontag\n6  2013-10-03   Tag der Deutschen Einheit\n7  2013-12-25               Weihnachtstag\n8  2013-12-26  Zweiter Weihnachtsfeiertag",
      "text/html": "<div>\n<style scoped>\n    .dataframe tbody tr th:only-of-type {\n        vertical-align: middle;\n    }\n\n    .dataframe tbody tr th {\n        vertical-align: top;\n    }\n\n    .dataframe thead th {\n        text-align: right;\n    }\n</style>\n<table border=\"1\" class=\"dataframe\">\n  <thead>\n    <tr style=\"text-align: right;\">\n      <th></th>\n      <th>date</th>\n      <th>description</th>\n    </tr>\n  </thead>\n  <tbody>\n    <tr>\n      <th>0</th>\n      <td>2013-01-01</td>\n      <td>Neujahrstag</td>\n    </tr>\n    <tr>\n      <th>1</th>\n      <td>2013-03-29</td>\n      <td>Karfreitag</td>\n    </tr>\n    <tr>\n      <th>2</th>\n      <td>2013-04-01</td>\n      <td>Ostermontag</td>\n    </tr>\n    <tr>\n      <th>3</th>\n      <td>2013-05-01</td>\n      <td>Tag der Arbeit</td>\n    </tr>\n    <tr>\n      <th>4</th>\n      <td>2013-05-09</td>\n      <td>Christi Himmelfahrt</td>\n    </tr>\n    <tr>\n      <th>5</th>\n      <td>2013-05-20</td>\n      <td>Pfingstmontag</td>\n    </tr>\n    <tr>\n      <th>6</th>\n      <td>2013-10-03</td>\n      <td>Tag der Deutschen Einheit</td>\n    </tr>\n    <tr>\n      <th>7</th>\n      <td>2013-12-25</td>\n      <td>Weihnachtstag</td>\n    </tr>\n    <tr>\n      <th>8</th>\n      <td>2013-12-26</td>\n      <td>Zweiter Weihnachtsfeiertag</td>\n    </tr>\n  </tbody>\n</table>\n</div>"
     },
     "execution_count": 73,
     "metadata": {},
     "output_type": "execute_result"
    }
   ],
   "source": [
    "# Check DataFrame\n",
    "df_public_holidays"
   ],
   "metadata": {
    "collapsed": false,
    "ExecuteTime": {
     "end_time": "2023-12-18T19:01:43.573858444Z",
     "start_time": "2023-12-18T19:01:43.520877511Z"
    }
   },
   "id": "d5dd51f87d423b6b"
  },
  {
   "cell_type": "code",
   "execution_count": 74,
   "outputs": [],
   "source": [
    "# Save DataFrame to CSV-File\n",
    "df_public_holidays.to_csv('./src/output/api_public_holidays.csv', index=False)"
   ],
   "metadata": {
    "collapsed": false,
    "ExecuteTime": {
     "end_time": "2023-12-18T19:01:43.574050397Z",
     "start_time": "2023-12-18T19:01:43.564846615Z"
    }
   },
   "id": "21847ef45f854bca"
  }
 ],
 "metadata": {
  "kernelspec": {
   "display_name": "Python 3",
   "language": "python",
   "name": "python3"
  },
  "language_info": {
   "codemirror_mode": {
    "name": "ipython",
    "version": 2
   },
   "file_extension": ".py",
   "mimetype": "text/x-python",
   "name": "python",
   "nbconvert_exporter": "python",
   "pygments_lexer": "ipython2",
   "version": "2.7.6"
  }
 },
 "nbformat": 4,
 "nbformat_minor": 5
}
