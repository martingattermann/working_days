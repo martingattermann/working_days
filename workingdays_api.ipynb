{
 "cells": [
  {
   "cell_type": "code",
   "execution_count": 1,
   "id": "initial_id",
   "metadata": {
    "collapsed": true,
    "ExecuteTime": {
     "end_time": "2023-12-20T14:39:43.944039557Z",
     "start_time": "2023-12-20T14:39:43.629501099Z"
    }
   },
   "outputs": [],
   "source": [
    "import pandas as pd\n",
    "import requests\n",
    "import yaml"
   ]
  },
  {
   "cell_type": "code",
   "execution_count": 2,
   "outputs": [],
   "source": [
    "# Load credential data from yaml-file\n",
    "with open(\"./credentials.yml\", \"r\") as credentials:\n",
    "    try:\n",
    "        credentials_data = yaml.safe_load(credentials)\n",
    "        key = credentials_data['rapidsAPI']['API-KEY']\n",
    "        host = credentials_data['rapidsAPI']['API-HOST']\n",
    "    except:\n",
    "        print('Error')"
   ],
   "metadata": {
    "collapsed": false,
    "ExecuteTime": {
     "end_time": "2023-12-20T14:39:43.944874599Z",
     "start_time": "2023-12-20T14:39:43.943039479Z"
    }
   },
   "id": "ee91ef6fa6915cc9"
  },
  {
   "cell_type": "code",
   "execution_count": 3,
   "outputs": [],
   "source": [
    "# Function to create payload\n",
    "def create_payload(country,start,end):\n",
    "    parameter = {\n",
    "        'country_code': country,\n",
    "        'start_date': start,\n",
    "        'end_date': end\n",
    "    }\n",
    "    \n",
    "    return parameter"
   ],
   "metadata": {
    "collapsed": false,
    "ExecuteTime": {
     "end_time": "2023-12-20T14:39:43.945286487Z",
     "start_time": "2023-12-20T14:39:43.943263982Z"
    }
   },
   "id": "458e7082016e06e5"
  },
  {
   "cell_type": "code",
   "execution_count": 4,
   "outputs": [],
   "source": [
    "url = 'https://working-days.p.rapidapi.com/1.3/analyse'\n",
    "\n",
    "headers = {\n",
    "    \"X-RapidAPI-Key\": key,\n",
    "    \"X-RapidAPI-Host\": host\n",
    "}"
   ],
   "metadata": {
    "collapsed": false,
    "ExecuteTime": {
     "end_time": "2023-12-20T14:39:43.945699315Z",
     "start_time": "2023-12-20T14:39:43.943361102Z"
    }
   },
   "id": "a2337b1424ceaebe"
  },
  {
   "cell_type": "code",
   "execution_count": 6,
   "outputs": [],
   "source": [
    "payload = create_payload('DE','2013-01-01','2013-01-31')"
   ],
   "metadata": {
    "collapsed": false,
    "ExecuteTime": {
     "end_time": "2023-12-20T14:39:58.265081447Z",
     "start_time": "2023-12-20T14:39:58.260765498Z"
    }
   },
   "id": "a33dab0721f9afc7"
  },
  {
   "cell_type": "code",
   "execution_count": 6,
   "outputs": [],
   "source": [
    "response = requests.get(url, headers=headers, params=payload)\n",
    "jsn_response = response.json()"
   ],
   "metadata": {
    "collapsed": false,
    "ExecuteTime": {
     "end_time": "2023-12-19T19:26:33.019193207Z",
     "start_time": "2023-12-19T19:26:32.768000640Z"
    }
   },
   "id": "1716dc6ae314dacd"
  },
  {
   "cell_type": "code",
   "execution_count": 7,
   "outputs": [],
   "source": [
    "# Extract List of public holidays from JSON\n",
    "lst_public_holidays = jsn_response['public_holidays']['list']\n",
    "\n",
    "# Create DataFrame from List\n",
    "df_public_holidays = pd.DataFrame(lst_public_holidays)"
   ],
   "metadata": {
    "collapsed": false,
    "ExecuteTime": {
     "end_time": "2023-12-19T19:26:33.022718438Z",
     "start_time": "2023-12-19T19:26:33.020108026Z"
    }
   },
   "id": "8986d2714a9aa843"
  },
  {
   "cell_type": "code",
   "execution_count": 8,
   "outputs": [
    {
     "data": {
      "text/plain": "         date  description\n0  2013-01-01  Neujahrstag",
      "text/html": "<div>\n<style scoped>\n    .dataframe tbody tr th:only-of-type {\n        vertical-align: middle;\n    }\n\n    .dataframe tbody tr th {\n        vertical-align: top;\n    }\n\n    .dataframe thead th {\n        text-align: right;\n    }\n</style>\n<table border=\"1\" class=\"dataframe\">\n  <thead>\n    <tr style=\"text-align: right;\">\n      <th></th>\n      <th>date</th>\n      <th>description</th>\n    </tr>\n  </thead>\n  <tbody>\n    <tr>\n      <th>0</th>\n      <td>2013-01-01</td>\n      <td>Neujahrstag</td>\n    </tr>\n  </tbody>\n</table>\n</div>"
     },
     "execution_count": 8,
     "metadata": {},
     "output_type": "execute_result"
    }
   ],
   "source": [
    "# Check DataFrame\n",
    "df_public_holidays"
   ],
   "metadata": {
    "collapsed": false,
    "ExecuteTime": {
     "end_time": "2023-12-19T19:26:33.030632554Z",
     "start_time": "2023-12-19T19:26:33.022863169Z"
    }
   },
   "id": "d5dd51f87d423b6b"
  },
  {
   "cell_type": "code",
   "execution_count": 7,
   "outputs": [],
   "source": [
    "# Save DataFrame to CSV-File\n",
    "df_public_holidays.to_csv('./src/output/api_public_holidays.csv', index=False)"
   ],
   "metadata": {
    "collapsed": false,
    "ExecuteTime": {
     "end_time": "2023-12-19T15:35:54.821438515Z",
     "start_time": "2023-12-19T15:35:54.818525297Z"
    }
   },
   "id": "21847ef45f854bca"
  },
  {
   "cell_type": "code",
   "execution_count": 17,
   "outputs": [
    {
     "data": {
      "text/plain": "1"
     },
     "execution_count": 17,
     "metadata": {},
     "output_type": "execute_result"
    }
   ],
   "source": [
    "from sqlalchemy import create_engine\n",
    "engine = create_engine('sqlite:///./src/output/workingDays', echo=False)\n",
    "db_response = df_public_holidays.to_sql(con=engine, name=\"public_holidays\", index=False, if_exists=\"replace\")\n",
    "db_response"
   ],
   "metadata": {
    "collapsed": false,
    "ExecuteTime": {
     "end_time": "2023-12-19T15:49:52.491866642Z",
     "start_time": "2023-12-19T15:49:52.484029730Z"
    }
   },
   "id": "ca12206fd523d631"
  },
  {
   "cell_type": "code",
   "execution_count": null,
   "outputs": [],
   "source": [],
   "metadata": {
    "collapsed": false
   },
   "id": "37bc3d6dd6a09221"
  }
 ],
 "metadata": {
  "kernelspec": {
   "display_name": "Python 3",
   "language": "python",
   "name": "python3"
  },
  "language_info": {
   "codemirror_mode": {
    "name": "ipython",
    "version": 2
   },
   "file_extension": ".py",
   "mimetype": "text/x-python",
   "name": "python",
   "nbconvert_exporter": "python",
   "pygments_lexer": "ipython2",
   "version": "2.7.6"
  }
 },
 "nbformat": 4,
 "nbformat_minor": 5
}
