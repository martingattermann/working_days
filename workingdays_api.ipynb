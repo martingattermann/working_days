{
 "cells": [
  {
   "cell_type": "markdown",
   "source": [
    "# Scenario 3\n",
    "## API to sqlite\n",
    "\n",
    "![Scenario 3](./src/input/static/scenario_3.jpg)"
   ],
   "metadata": {
    "collapsed": false
   },
   "id": "f1a050e87718f707"
  },
  {
   "cell_type": "code",
   "outputs": [],
   "source": [
    "# Import packages\n",
    "import pandas as pd\n",
    "import requests\n",
    "import yaml\n",
    "from sqlalchemy import create_engine"
   ],
   "metadata": {
    "collapsed": true,
    "ExecuteTime": {
     "end_time": "2024-01-06T10:25:47.366220615Z",
     "start_time": "2024-01-06T10:25:47.162924715Z"
    }
   },
   "id": "initial_id",
   "execution_count": 11
  },
  {
   "cell_type": "code",
   "execution_count": 12,
   "outputs": [],
   "source": [
    "# Function to create payload\n",
    "def create_payload(country,start,end):\n",
    "    parameter = {\n",
    "        'country_code': country,\n",
    "        'start_date': start,\n",
    "        'end_date': end\n",
    "    }\n",
    "    \n",
    "    return parameter"
   ],
   "metadata": {
    "collapsed": false,
    "ExecuteTime": {
     "end_time": "2024-01-06T10:25:47.366918313Z",
     "start_time": "2024-01-06T10:25:47.282508109Z"
    }
   },
   "id": "458e7082016e06e5"
  },
  {
   "cell_type": "code",
   "outputs": [],
   "source": [
    "# Load credential data from YAML-File\n",
    "with open(\"./credentials.yml\", \"r\") as credentials:\n",
    "    try:\n",
    "        credentials_data = yaml.safe_load(credentials)\n",
    "        key = credentials_data['rapidsAPI']['API-KEY']\n",
    "        host = credentials_data['rapidsAPI']['API-HOST']\n",
    "    except:\n",
    "        print('Error')"
   ],
   "metadata": {
    "collapsed": false,
    "ExecuteTime": {
     "end_time": "2024-01-06T10:25:47.369326920Z",
     "start_time": "2024-01-06T10:25:47.282722084Z"
    }
   },
   "id": "ee91ef6fa6915cc9",
   "execution_count": 13
  },
  {
   "cell_type": "code",
   "execution_count": 14,
   "outputs": [],
   "source": [
    "# Set variables for API call\n",
    "url = 'https://working-days.p.rapidapi.com/1.3/analyse'\n",
    "\n",
    "headers = {\n",
    "    \"X-RapidAPI-Key\": key,\n",
    "    \"X-RapidAPI-Host\": host\n",
    "}\n",
    "\n",
    "payload = create_payload('DE','2013-01-01','2013-01-31')"
   ],
   "metadata": {
    "collapsed": false,
    "ExecuteTime": {
     "end_time": "2024-01-06T10:25:47.369491280Z",
     "start_time": "2024-01-06T10:25:47.325237226Z"
    }
   },
   "id": "a2337b1424ceaebe"
  },
  {
   "cell_type": "code",
   "outputs": [],
   "source": [
    "# Make API call and change response to JSON-Format\n",
    "response = requests.get(url, headers=headers, params=payload)\n",
    "jsn_response = response.json()"
   ],
   "metadata": {
    "collapsed": false,
    "ExecuteTime": {
     "end_time": "2024-01-06T10:25:47.595569513Z",
     "start_time": "2024-01-06T10:25:47.325418509Z"
    }
   },
   "id": "1716dc6ae314dacd",
   "execution_count": 15
  },
  {
   "cell_type": "code",
   "execution_count": 16,
   "outputs": [],
   "source": [
    "# Extract List of public holidays from JSON\n",
    "lst_public_holidays = jsn_response['public_holidays']['list']\n",
    "\n",
    "# Create DataFrame from List\n",
    "df_public_holidays = pd.DataFrame(lst_public_holidays)"
   ],
   "metadata": {
    "collapsed": false,
    "ExecuteTime": {
     "end_time": "2024-01-06T10:25:47.598302309Z",
     "start_time": "2024-01-06T10:25:47.596628289Z"
    }
   },
   "id": "8986d2714a9aa843"
  },
  {
   "cell_type": "code",
   "execution_count": 17,
   "outputs": [
    {
     "data": {
      "text/plain": "         date  description\n0  2013-01-01  Neujahrstag",
      "text/html": "<div>\n<style scoped>\n    .dataframe tbody tr th:only-of-type {\n        vertical-align: middle;\n    }\n\n    .dataframe tbody tr th {\n        vertical-align: top;\n    }\n\n    .dataframe thead th {\n        text-align: right;\n    }\n</style>\n<table border=\"1\" class=\"dataframe\">\n  <thead>\n    <tr style=\"text-align: right;\">\n      <th></th>\n      <th>date</th>\n      <th>description</th>\n    </tr>\n  </thead>\n  <tbody>\n    <tr>\n      <th>0</th>\n      <td>2013-01-01</td>\n      <td>Neujahrstag</td>\n    </tr>\n  </tbody>\n</table>\n</div>"
     },
     "execution_count": 17,
     "metadata": {},
     "output_type": "execute_result"
    }
   ],
   "source": [
    "# Check DataFrame\n",
    "df_public_holidays"
   ],
   "metadata": {
    "collapsed": false,
    "ExecuteTime": {
     "end_time": "2024-01-06T10:25:47.641574666Z",
     "start_time": "2024-01-06T10:25:47.599225904Z"
    }
   },
   "id": "d5dd51f87d423b6b"
  },
  {
   "cell_type": "markdown",
   "source": [
    "### Dataframe To sqlite"
   ],
   "metadata": {
    "collapsed": false
   },
   "id": "7f3ef6e1a0fc95bc"
  },
  {
   "cell_type": "code",
   "outputs": [
    {
     "data": {
      "text/plain": "1"
     },
     "execution_count": 18,
     "metadata": {},
     "output_type": "execute_result"
    }
   ],
   "source": [
    "# Write DataFrame to sqlite db\n",
    "engine = create_engine('sqlite:///./src/output/workingDays', echo=False)\n",
    "db_response = df_public_holidays.to_sql(con=engine, name=\"public_holidays\", index=False, if_exists=\"replace\")\n",
    "db_response"
   ],
   "metadata": {
    "collapsed": false,
    "ExecuteTime": {
     "end_time": "2024-01-06T10:25:50.881401988Z",
     "start_time": "2024-01-06T10:25:50.860921510Z"
    }
   },
   "id": "ca12206fd523d631",
   "execution_count": 18
  },
  {
   "cell_type": "code",
   "outputs": [],
   "source": [],
   "metadata": {
    "collapsed": false
   },
   "id": "c6bb48c1480bbd2a"
  }
 ],
 "metadata": {
  "kernelspec": {
   "display_name": "Python 3",
   "language": "python",
   "name": "python3"
  },
  "language_info": {
   "codemirror_mode": {
    "name": "ipython",
    "version": 2
   },
   "file_extension": ".py",
   "mimetype": "text/x-python",
   "name": "python",
   "nbconvert_exporter": "python",
   "pygments_lexer": "ipython2",
   "version": "2.7.6"
  }
 },
 "nbformat": 4,
 "nbformat_minor": 5
}
