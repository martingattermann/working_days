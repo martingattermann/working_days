{
 "cells": [
  {
   "cell_type": "code",
   "execution_count": 1,
   "id": "initial_id",
   "metadata": {
    "collapsed": true,
    "ExecuteTime": {
     "end_time": "2023-12-19T15:35:54.442088442Z",
     "start_time": "2023-12-19T15:35:54.201787943Z"
    }
   },
   "outputs": [],
   "source": [
    "import pandas as pd\n",
    "import requests\n",
    "import yaml"
   ]
  },
  {
   "cell_type": "code",
   "execution_count": 2,
   "outputs": [],
   "source": [
    "with open(\"./credentials.yml\", \"r\") as credentials:\n",
    "    try:\n",
    "        credentials_data = yaml.safe_load(credentials)\n",
    "        key = credentials_data['rapidsAPI']['API-Key']\n",
    "        host = credentials_data['rapidsAPI']['API-Host']\n",
    "    except:\n",
    "        print('Error')"
   ],
   "metadata": {
    "collapsed": false,
    "ExecuteTime": {
     "end_time": "2023-12-19T15:35:54.487305159Z",
     "start_time": "2023-12-19T15:35:54.487030815Z"
    }
   },
   "id": "ee91ef6fa6915cc9"
  },
  {
   "cell_type": "code",
   "execution_count": 3,
   "outputs": [],
   "source": [
    "url = 'https://working-days.p.rapidapi.com/1.3/analyse'\n",
    "\n",
    "headers = {\n",
    "    \"X-RapidAPI-Key\": key,\n",
    "    \"X-RapidAPI-Host\": host\n",
    "}\n",
    "\n",
    "payload = {\n",
    "    'country_code': 'DE',\n",
    "    'start_date': '2013-01-01',\n",
    "    'end_date': '2013-01-31'\n",
    "}"
   ],
   "metadata": {
    "collapsed": false,
    "ExecuteTime": {
     "end_time": "2023-12-19T15:35:54.487565251Z",
     "start_time": "2023-12-19T15:35:54.487202027Z"
    }
   },
   "id": "a2337b1424ceaebe"
  },
  {
   "cell_type": "code",
   "execution_count": 4,
   "outputs": [],
   "source": [
    "response = requests.get(url, headers=headers, params=payload)\n",
    "response = response.json()"
   ],
   "metadata": {
    "collapsed": false,
    "ExecuteTime": {
     "end_time": "2023-12-19T15:35:54.808014802Z",
     "start_time": "2023-12-19T15:35:54.487296154Z"
    }
   },
   "id": "1716dc6ae314dacd"
  },
  {
   "cell_type": "code",
   "execution_count": 5,
   "outputs": [],
   "source": [
    "# Extract List of public holidays from JSON\n",
    "lst_public_holidays = response['public_holidays']['list']\n",
    "\n",
    "# Create DataFrame from List\n",
    "df_public_holidays = pd.DataFrame(lst_public_holidays)"
   ],
   "metadata": {
    "collapsed": false,
    "ExecuteTime": {
     "end_time": "2023-12-19T15:35:54.812220945Z",
     "start_time": "2023-12-19T15:35:54.809937899Z"
    }
   },
   "id": "8986d2714a9aa843"
  },
  {
   "cell_type": "code",
   "execution_count": 6,
   "outputs": [
    {
     "data": {
      "text/plain": "         date  description\n0  2013-01-01  Neujahrstag",
      "text/html": "<div>\n<style scoped>\n    .dataframe tbody tr th:only-of-type {\n        vertical-align: middle;\n    }\n\n    .dataframe tbody tr th {\n        vertical-align: top;\n    }\n\n    .dataframe thead th {\n        text-align: right;\n    }\n</style>\n<table border=\"1\" class=\"dataframe\">\n  <thead>\n    <tr style=\"text-align: right;\">\n      <th></th>\n      <th>date</th>\n      <th>description</th>\n    </tr>\n  </thead>\n  <tbody>\n    <tr>\n      <th>0</th>\n      <td>2013-01-01</td>\n      <td>Neujahrstag</td>\n    </tr>\n  </tbody>\n</table>\n</div>"
     },
     "execution_count": 6,
     "metadata": {},
     "output_type": "execute_result"
    }
   ],
   "source": [
    "# Check DataFrame\n",
    "df_public_holidays"
   ],
   "metadata": {
    "collapsed": false,
    "ExecuteTime": {
     "end_time": "2023-12-19T15:35:54.821160483Z",
     "start_time": "2023-12-19T15:35:54.811768897Z"
    }
   },
   "id": "d5dd51f87d423b6b"
  },
  {
   "cell_type": "code",
   "execution_count": 7,
   "outputs": [],
   "source": [
    "# Save DataFrame to CSV-File\n",
    "df_public_holidays.to_csv('./src/output/api_public_holidays.csv', index=False)"
   ],
   "metadata": {
    "collapsed": false,
    "ExecuteTime": {
     "end_time": "2023-12-19T15:35:54.821438515Z",
     "start_time": "2023-12-19T15:35:54.818525297Z"
    }
   },
   "id": "21847ef45f854bca"
  },
  {
   "cell_type": "code",
   "execution_count": 17,
   "outputs": [
    {
     "data": {
      "text/plain": "1"
     },
     "execution_count": 17,
     "metadata": {},
     "output_type": "execute_result"
    }
   ],
   "source": [
    "from sqlalchemy import create_engine\n",
    "engine = create_engine('sqlite:///./src/output/workingDays', echo=False)\n",
    "db_response = df_public_holidays.to_sql(con=engine, name=\"public_holidays\", index=False, if_exists=\"replace\")\n",
    "db_response"
   ],
   "metadata": {
    "collapsed": false,
    "ExecuteTime": {
     "end_time": "2023-12-19T15:49:52.491866642Z",
     "start_time": "2023-12-19T15:49:52.484029730Z"
    }
   },
   "id": "ca12206fd523d631"
  },
  {
   "cell_type": "code",
   "execution_count": null,
   "outputs": [],
   "source": [],
   "metadata": {
    "collapsed": false
   },
   "id": "37bc3d6dd6a09221"
  }
 ],
 "metadata": {
  "kernelspec": {
   "display_name": "Python 3",
   "language": "python",
   "name": "python3"
  },
  "language_info": {
   "codemirror_mode": {
    "name": "ipython",
    "version": 2
   },
   "file_extension": ".py",
   "mimetype": "text/x-python",
   "name": "python",
   "nbconvert_exporter": "python",
   "pygments_lexer": "ipython2",
   "version": "2.7.6"
  }
 },
 "nbformat": 4,
 "nbformat_minor": 5
}
