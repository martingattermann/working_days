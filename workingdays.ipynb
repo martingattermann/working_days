{
 "cells": [
  {
   "cell_type": "code",
   "execution_count": 5,
   "id": "initial_id",
   "metadata": {
    "collapsed": true,
    "ExecuteTime": {
     "end_time": "2023-12-14T19:28:52.312957710Z",
     "start_time": "2023-12-14T19:28:52.310824484Z"
    }
   },
   "outputs": [],
   "source": [
    "import pandas as pd"
   ]
  },
  {
   "cell_type": "code",
   "execution_count": 8,
   "outputs": [
    {
     "data": {
      "text/plain": "                  days  working_days  weekend_days  \\\ntotal        30.000000          21.0           8.0   \nmondays       5.000000           4.0           0.0   \ntuesdays      5.000000           5.0           0.0   \nwednesdays    4.000000           4.0           0.0   \nthursdays     4.000000           4.0           0.0   \nfridays       4.000000           4.0           0.0   \nsaturdays     4.000000           0.0           4.0   \nsundays       4.000000           0.0           4.0   \nhours       719.983333           NaN           NaN   \nwork_hours         NaN         168.0           NaN   \nwages              NaN        3360.0           NaN   \nlist               NaN           NaN           NaN   \n\n                                              public_holidays custom_dates  \ntotal                                                       1            0  \nmondays                                                     1            0  \ntuesdays                                                    0            0  \nwednesdays                                                  0            0  \nthursdays                                                   0            0  \nfridays                                                     0            0  \nsaturdays                                                   0            0  \nsundays                                                     0            0  \nhours                                                     NaN          NaN  \nwork_hours                                                NaN          NaN  \nwages                                                     NaN          NaN  \nlist        [{'date': '2013-04-01', 'description': 'Osterm...           []  ",
      "text/html": "<div>\n<style scoped>\n    .dataframe tbody tr th:only-of-type {\n        vertical-align: middle;\n    }\n\n    .dataframe tbody tr th {\n        vertical-align: top;\n    }\n\n    .dataframe thead th {\n        text-align: right;\n    }\n</style>\n<table border=\"1\" class=\"dataframe\">\n  <thead>\n    <tr style=\"text-align: right;\">\n      <th></th>\n      <th>days</th>\n      <th>working_days</th>\n      <th>weekend_days</th>\n      <th>public_holidays</th>\n      <th>custom_dates</th>\n    </tr>\n  </thead>\n  <tbody>\n    <tr>\n      <th>total</th>\n      <td>30.000000</td>\n      <td>21.0</td>\n      <td>8.0</td>\n      <td>1</td>\n      <td>0</td>\n    </tr>\n    <tr>\n      <th>mondays</th>\n      <td>5.000000</td>\n      <td>4.0</td>\n      <td>0.0</td>\n      <td>1</td>\n      <td>0</td>\n    </tr>\n    <tr>\n      <th>tuesdays</th>\n      <td>5.000000</td>\n      <td>5.0</td>\n      <td>0.0</td>\n      <td>0</td>\n      <td>0</td>\n    </tr>\n    <tr>\n      <th>wednesdays</th>\n      <td>4.000000</td>\n      <td>4.0</td>\n      <td>0.0</td>\n      <td>0</td>\n      <td>0</td>\n    </tr>\n    <tr>\n      <th>thursdays</th>\n      <td>4.000000</td>\n      <td>4.0</td>\n      <td>0.0</td>\n      <td>0</td>\n      <td>0</td>\n    </tr>\n    <tr>\n      <th>fridays</th>\n      <td>4.000000</td>\n      <td>4.0</td>\n      <td>0.0</td>\n      <td>0</td>\n      <td>0</td>\n    </tr>\n    <tr>\n      <th>saturdays</th>\n      <td>4.000000</td>\n      <td>0.0</td>\n      <td>4.0</td>\n      <td>0</td>\n      <td>0</td>\n    </tr>\n    <tr>\n      <th>sundays</th>\n      <td>4.000000</td>\n      <td>0.0</td>\n      <td>4.0</td>\n      <td>0</td>\n      <td>0</td>\n    </tr>\n    <tr>\n      <th>hours</th>\n      <td>719.983333</td>\n      <td>NaN</td>\n      <td>NaN</td>\n      <td>NaN</td>\n      <td>NaN</td>\n    </tr>\n    <tr>\n      <th>work_hours</th>\n      <td>NaN</td>\n      <td>168.0</td>\n      <td>NaN</td>\n      <td>NaN</td>\n      <td>NaN</td>\n    </tr>\n    <tr>\n      <th>wages</th>\n      <td>NaN</td>\n      <td>3360.0</td>\n      <td>NaN</td>\n      <td>NaN</td>\n      <td>NaN</td>\n    </tr>\n    <tr>\n      <th>list</th>\n      <td>NaN</td>\n      <td>NaN</td>\n      <td>NaN</td>\n      <td>[{'date': '2013-04-01', 'description': 'Osterm...</td>\n      <td>[]</td>\n    </tr>\n  </tbody>\n</table>\n</div>"
     },
     "execution_count": 8,
     "metadata": {},
     "output_type": "execute_result"
    }
   ],
   "source": [
    "data = pd.read_json(\"./data/working_days.json\", orient=\"columns\")\n",
    "data"
   ],
   "metadata": {
    "collapsed": false,
    "ExecuteTime": {
     "end_time": "2023-12-14T19:30:54.322993973Z",
     "start_time": "2023-12-14T19:30:54.320962409Z"
    }
   },
   "id": "7a6cd77f900fb52f"
  },
  {
   "cell_type": "code",
   "execution_count": null,
   "outputs": [],
   "source": [],
   "metadata": {
    "collapsed": false
   },
   "id": "7843ef8ab1475215"
  }
 ],
 "metadata": {
  "kernelspec": {
   "display_name": "Python 3",
   "language": "python",
   "name": "python3"
  },
  "language_info": {
   "codemirror_mode": {
    "name": "ipython",
    "version": 2
   },
   "file_extension": ".py",
   "mimetype": "text/x-python",
   "name": "python",
   "nbconvert_exporter": "python",
   "pygments_lexer": "ipython2",
   "version": "2.7.6"
  }
 },
 "nbformat": 4,
 "nbformat_minor": 5
}
