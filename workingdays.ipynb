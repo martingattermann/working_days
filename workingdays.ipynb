{
 "cells": [
  {
   "cell_type": "code",
   "execution_count": 8,
   "id": "initial_id",
   "metadata": {
    "collapsed": true,
    "ExecuteTime": {
     "end_time": "2023-12-15T14:30:17.675520327Z",
     "start_time": "2023-12-15T14:30:17.662577205Z"
    }
   },
   "outputs": [],
   "source": [
    "# Import Libraries\n",
    "import json\n",
    "import pandas as pd"
   ]
  },
  {
   "cell_type": "code",
   "execution_count": 11,
   "outputs": [],
   "source": [
    "# Open File and load it as JSON\n",
    "with open ('./src/input/working_days.json') as file:\n",
    "    data = json.loads(file.read())"
   ],
   "metadata": {
    "collapsed": false,
    "ExecuteTime": {
     "end_time": "2023-12-15T14:30:47.254444752Z",
     "start_time": "2023-12-15T14:30:47.212351508Z"
    }
   },
   "id": "cccdb8ae2eb545ec"
  },
  {
   "cell_type": "code",
   "execution_count": 19,
   "outputs": [
    {
     "data": {
      "text/plain": "{'days': {'total': 30,\n  'mondays': 5,\n  'tuesdays': 5,\n  'wednesdays': 4,\n  'thursdays': 4,\n  'fridays': 4,\n  'saturdays': 4,\n  'sundays': 4,\n  'hours': 719.98333333333},\n 'working_days': {'total': 21,\n  'mondays': 4,\n  'tuesdays': 5,\n  'wednesdays': 4,\n  'thursdays': 4,\n  'fridays': 4,\n  'saturdays': 0,\n  'sundays': 0,\n  'work_hours': 168,\n  'wages': 3360},\n 'weekend_days': {'total': 8,\n  'mondays': 0,\n  'tuesdays': 0,\n  'wednesdays': 0,\n  'thursdays': 0,\n  'fridays': 0,\n  'saturdays': 4,\n  'sundays': 4},\n 'public_holidays': {'total': 1,\n  'mondays': 1,\n  'tuesdays': 0,\n  'wednesdays': 0,\n  'thursdays': 0,\n  'fridays': 0,\n  'saturdays': 0,\n  'sundays': 0,\n  'list': [{'date': '2013-04-01', 'description': 'Ostermontag'}]},\n 'custom_dates': {'total': 0,\n  'mondays': 0,\n  'tuesdays': 0,\n  'wednesdays': 0,\n  'thursdays': 0,\n  'fridays': 0,\n  'saturdays': 0,\n  'sundays': 0,\n  'list': []}}"
     },
     "execution_count": 19,
     "metadata": {},
     "output_type": "execute_result"
    }
   ],
   "source": [
    "# Check JSON-Data\n",
    "data"
   ],
   "metadata": {
    "collapsed": false,
    "ExecuteTime": {
     "end_time": "2023-12-15T14:32:56.009290832Z",
     "start_time": "2023-12-15T14:32:56.006914905Z"
    }
   },
   "id": "a0adb86f48cc1149"
  },
  {
   "cell_type": "code",
   "execution_count": 23,
   "outputs": [],
   "source": [
    "# Extract List of public holidays from JSON\n",
    "lst_public_holidays = data['public_holidays']['list']\n",
    "\n",
    "# Create DataFrame from List\n",
    "df_public_holidays = pd.DataFrame(lst_public_holidays)"
   ],
   "metadata": {
    "collapsed": false,
    "ExecuteTime": {
     "end_time": "2023-12-15T14:37:08.557258638Z",
     "start_time": "2023-12-15T14:37:08.511046354Z"
    }
   },
   "id": "7a6cd77f900fb52f"
  },
  {
   "cell_type": "code",
   "execution_count": 24,
   "outputs": [
    {
     "data": {
      "text/plain": "         date  description\n0  2013-04-01  Ostermontag",
      "text/html": "<div>\n<style scoped>\n    .dataframe tbody tr th:only-of-type {\n        vertical-align: middle;\n    }\n\n    .dataframe tbody tr th {\n        vertical-align: top;\n    }\n\n    .dataframe thead th {\n        text-align: right;\n    }\n</style>\n<table border=\"1\" class=\"dataframe\">\n  <thead>\n    <tr style=\"text-align: right;\">\n      <th></th>\n      <th>date</th>\n      <th>description</th>\n    </tr>\n  </thead>\n  <tbody>\n    <tr>\n      <th>0</th>\n      <td>2013-04-01</td>\n      <td>Ostermontag</td>\n    </tr>\n  </tbody>\n</table>\n</div>"
     },
     "execution_count": 24,
     "metadata": {},
     "output_type": "execute_result"
    }
   ],
   "source": [
    "# Check DataFrame\n",
    "df_public_holidays"
   ],
   "metadata": {
    "collapsed": false,
    "ExecuteTime": {
     "end_time": "2023-12-15T14:37:08.993636483Z",
     "start_time": "2023-12-15T14:37:08.991607188Z"
    }
   },
   "id": "7843ef8ab1475215"
  },
  {
   "cell_type": "code",
   "execution_count": 26,
   "outputs": [],
   "source": [
    "# Save DataFrame to CSV-File\n",
    "df_public_holidays.to_csv('./src/output/public_holidays.csv', index=False)"
   ],
   "metadata": {
    "collapsed": false,
    "ExecuteTime": {
     "end_time": "2023-12-15T14:39:28.945338509Z",
     "start_time": "2023-12-15T14:39:28.902634607Z"
    }
   },
   "id": "1c5d61f30a760056"
  },
  {
   "cell_type": "code",
   "execution_count": null,
   "outputs": [],
   "source": [],
   "metadata": {
    "collapsed": false
   },
   "id": "ee5d33879cf9fc7a"
  }
 ],
 "metadata": {
  "kernelspec": {
   "display_name": "Python 3",
   "language": "python",
   "name": "python3"
  },
  "language_info": {
   "codemirror_mode": {
    "name": "ipython",
    "version": 2
   },
   "file_extension": ".py",
   "mimetype": "text/x-python",
   "name": "python",
   "nbconvert_exporter": "python",
   "pygments_lexer": "ipython2",
   "version": "2.7.6"
  }
 },
 "nbformat": 4,
 "nbformat_minor": 5
}
