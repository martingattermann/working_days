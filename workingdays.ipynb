{
 "cells": [
  {
   "cell_type": "code",
   "execution_count": 1,
   "id": "initial_id",
   "metadata": {
    "collapsed": true,
    "ExecuteTime": {
     "end_time": "2023-12-22T07:52:15.257755927Z",
     "start_time": "2023-12-22T07:52:14.641339854Z"
    }
   },
   "outputs": [],
   "source": [
    "# Import Libraries\n",
    "import json\n",
    "import pandas as pd"
   ]
  },
  {
   "cell_type": "code",
   "execution_count": 2,
   "outputs": [],
   "source": [
    "# Open File and load it as JSON\n",
    "with open ('./src/input/1_working_days.json') as file:\n",
    "    data = json.loads(file.read())"
   ],
   "metadata": {
    "collapsed": false,
    "ExecuteTime": {
     "end_time": "2023-12-22T07:52:15.258569382Z",
     "start_time": "2023-12-22T07:52:15.256747639Z"
    }
   },
   "id": "cccdb8ae2eb545ec"
  },
  {
   "cell_type": "code",
   "execution_count": 3,
   "outputs": [
    {
     "data": {
      "text/plain": "{'days': {'total': 30,\n  'mondays': 5,\n  'tuesdays': 5,\n  'wednesdays': 4,\n  'thursdays': 4,\n  'fridays': 4,\n  'saturdays': 4,\n  'sundays': 4,\n  'hours': 719.98333333333},\n 'working_days': {'total': 21,\n  'mondays': 4,\n  'tuesdays': 5,\n  'wednesdays': 4,\n  'thursdays': 4,\n  'fridays': 4,\n  'saturdays': 0,\n  'sundays': 0,\n  'work_hours': 168,\n  'wages': 3360},\n 'weekend_days': {'total': 8,\n  'mondays': 0,\n  'tuesdays': 0,\n  'wednesdays': 0,\n  'thursdays': 0,\n  'fridays': 0,\n  'saturdays': 4,\n  'sundays': 4},\n 'public_holidays': {'total': 1,\n  'mondays': 1,\n  'tuesdays': 0,\n  'wednesdays': 0,\n  'thursdays': 0,\n  'fridays': 0,\n  'saturdays': 0,\n  'sundays': 0,\n  'list': [{'date': '2013-04-01', 'description': 'Ostermontag', 'free': ''}]},\n 'custom_dates': {'total': 0,\n  'mondays': 0,\n  'tuesdays': 0,\n  'wednesdays': 0,\n  'thursdays': 0,\n  'fridays': 0,\n  'saturdays': 0,\n  'sundays': 0,\n  'list': []}}"
     },
     "execution_count": 3,
     "metadata": {},
     "output_type": "execute_result"
    }
   ],
   "source": [
    "# Check JSON-Data\n",
    "data"
   ],
   "metadata": {
    "collapsed": false,
    "ExecuteTime": {
     "end_time": "2023-12-22T07:52:15.259708359Z",
     "start_time": "2023-12-22T07:52:15.256905816Z"
    }
   },
   "id": "a0adb86f48cc1149"
  },
  {
   "cell_type": "code",
   "execution_count": 4,
   "outputs": [],
   "source": [
    "# Extract List of public holidays from JSON\n",
    "lst_public_holidays = data['public_holidays']['list']\n",
    "\n",
    "# Create DataFrame from List\n",
    "df_public_holidays = pd.DataFrame(lst_public_holidays)"
   ],
   "metadata": {
    "collapsed": false,
    "ExecuteTime": {
     "end_time": "2023-12-22T07:52:15.260140891Z",
     "start_time": "2023-12-22T07:52:15.257137751Z"
    }
   },
   "id": "7a6cd77f900fb52f"
  },
  {
   "cell_type": "code",
   "execution_count": 5,
   "outputs": [
    {
     "data": {
      "text/plain": "         date  description free\n0  2013-04-01  Ostermontag     ",
      "text/html": "<div>\n<style scoped>\n    .dataframe tbody tr th:only-of-type {\n        vertical-align: middle;\n    }\n\n    .dataframe tbody tr th {\n        vertical-align: top;\n    }\n\n    .dataframe thead th {\n        text-align: right;\n    }\n</style>\n<table border=\"1\" class=\"dataframe\">\n  <thead>\n    <tr style=\"text-align: right;\">\n      <th></th>\n      <th>date</th>\n      <th>description</th>\n      <th>free</th>\n    </tr>\n  </thead>\n  <tbody>\n    <tr>\n      <th>0</th>\n      <td>2013-04-01</td>\n      <td>Ostermontag</td>\n      <td></td>\n    </tr>\n  </tbody>\n</table>\n</div>"
     },
     "execution_count": 5,
     "metadata": {},
     "output_type": "execute_result"
    }
   ],
   "source": [
    "# Check DataFrame\n",
    "df_public_holidays"
   ],
   "metadata": {
    "collapsed": false,
    "ExecuteTime": {
     "end_time": "2023-12-22T07:52:15.261964876Z",
     "start_time": "2023-12-22T07:52:15.257232723Z"
    }
   },
   "id": "7843ef8ab1475215"
  },
  {
   "cell_type": "code",
   "execution_count": 26,
   "outputs": [],
   "source": [
    "# Save DataFrame to CSV-File\n",
    "df_public_holidays.to_csv('./src/output/public_holidays.csv', index=False)"
   ],
   "metadata": {
    "collapsed": false,
    "ExecuteTime": {
     "end_time": "2023-12-15T14:39:28.945338509Z",
     "start_time": "2023-12-15T14:39:28.902634607Z"
    }
   },
   "id": "1c5d61f30a760056"
  },
  {
   "cell_type": "markdown",
   "source": [
    "## Loop multiple Files in Folder"
   ],
   "metadata": {
    "collapsed": false
   },
   "id": "ecc697c034ccde92"
  },
  {
   "cell_type": "code",
   "execution_count": 22,
   "outputs": [
    {
     "data": {
      "text/plain": "         date    description  free\n0  2013-04-01    Ostermontag   NaN\n0  2013-04-02  Osterdienstag  True",
      "text/html": "<div>\n<style scoped>\n    .dataframe tbody tr th:only-of-type {\n        vertical-align: middle;\n    }\n\n    .dataframe tbody tr th {\n        vertical-align: top;\n    }\n\n    .dataframe thead th {\n        text-align: right;\n    }\n</style>\n<table border=\"1\" class=\"dataframe\">\n  <thead>\n    <tr style=\"text-align: right;\">\n      <th></th>\n      <th>date</th>\n      <th>description</th>\n      <th>free</th>\n    </tr>\n  </thead>\n  <tbody>\n    <tr>\n      <th>0</th>\n      <td>2013-04-01</td>\n      <td>Ostermontag</td>\n      <td>NaN</td>\n    </tr>\n    <tr>\n      <th>0</th>\n      <td>2013-04-02</td>\n      <td>Osterdienstag</td>\n      <td>True</td>\n    </tr>\n  </tbody>\n</table>\n</div>"
     },
     "execution_count": 22,
     "metadata": {},
     "output_type": "execute_result"
    }
   ],
   "source": [
    "import os\n",
    "\n",
    "df_days = pd.DataFrame()\n",
    "\n",
    "for file in os.listdir('./src/input/'):\n",
    "    with open (f'./src/input/{file}') as file:\n",
    "        f_data = json.loads(file.read())\n",
    "\n",
    "        f_lst_public_holidays = f_data['public_holidays']['list']\n",
    "        \n",
    "        # Create DataFrame from List\n",
    "        f_df_public_holidays = pd.DataFrame(f_lst_public_holidays)\n",
    "        df_days = pd.concat([df_days, f_df_public_holidays], axis=0)\n",
    "        \n",
    "df_days"
   ],
   "metadata": {
    "collapsed": false,
    "ExecuteTime": {
     "end_time": "2023-12-22T08:10:43.272591576Z",
     "start_time": "2023-12-22T08:10:43.264402117Z"
    }
   },
   "id": "76bdd0b295fa578e"
  }
 ],
 "metadata": {
  "kernelspec": {
   "display_name": "Python 3",
   "language": "python",
   "name": "python3"
  },
  "language_info": {
   "codemirror_mode": {
    "name": "ipython",
    "version": 2
   },
   "file_extension": ".py",
   "mimetype": "text/x-python",
   "name": "python",
   "nbconvert_exporter": "python",
   "pygments_lexer": "ipython2",
   "version": "2.7.6"
  }
 },
 "nbformat": 4,
 "nbformat_minor": 5
}
